{
  "nbformat": 4,
  "nbformat_minor": 0,
  "metadata": {
    "colab": {
      "name": "n131a-vectors-matrices.ipynb",
      "provenance": []
    },
    "kernelspec": {
      "display_name": "Python 3",
      "language": "python",
      "name": "python3"
    },
    "language_info": {
      "codemirror_mode": {
        "name": "ipython",
        "version": 3
      },
      "file_extension": ".py",
      "mimetype": "text/x-python",
      "name": "python",
      "nbconvert_exporter": "python",
      "pygments_lexer": "ipython3",
      "version": "3.8.2"
    }
  },
  "cells": [
    {
      "cell_type": "markdown",
      "metadata": {
        "id": "Y7hxe5O-9ukJ"
      },
      "source": [
        "<img src='https://i.imgur.com/RDAD11M.png' width = '200' align = 'right'>\n",
        "\n",
        "## *DATA SCIENCE / SECTION 1 / SPRINT 3 / NOTE 1*\n",
        "\n",
        "# 📝 Assignment"
      ]
    },
    {
      "cell_type": "markdown",
      "metadata": {
        "id": "yXA3GwWhY9KL"
      },
      "source": [
        "## 1. Portfolio\n",
        "\n",
        "`Dot product` & `Matrix Multiplication` 을 이용하여 다음 포트폴리오의 사람별 총합을 계산하세요.\n",
        "- 결과는 `res`에 list형태로 저장합니다.\n",
        "\n",
        "|People|Name|Price|Amount|\n",
        "|:-:|:-:|:-:|:-:|\n",
        "|X|A|100|35|\n",
        "|X|B|500|10|\n",
        "|X|C|250|25|\n",
        "|X|D|50|40|\n",
        "|Y|A|100|-|\n",
        "|Y|B|500|50|\n",
        "|Y|C|250|50|\n",
        "|Y|D|50|-|\n",
        "|Z|A|100|-|\n",
        "|Z|B|500|-|\n",
        "|Z|C|250|100|\n",
        "|Z|D|50|-|\n",
        "\n"
      ]
    },
    {
      "cell_type": "code",
      "metadata": {
        "id": "ErSR5soVblfv",
        "outputId": "967b8c39-abbe-436a-c0f1-f4d6e10d7992",
        "colab": {
          "base_uri": "https://localhost:8080/"
        }
      },
      "source": [
        "import matplotlib.pyplot as plt\n",
        "import numpy as np\n",
        "import pandas as pd\n",
        "df = pd.DataFrame([\n",
        "    ['X','X','X','X','Y','Y','Y','Y','Z','Z','Z','Z'],\n",
        "    ['A','B','C','D','A','B','C','D','A','B','C','D'],\n",
        "    ['100','500','250','50','100','500','250','50','100','500','250','50'],\n",
        "    ['35','10','25','40','0','50','50','0','0','0','100','0']\n",
        "], index = ['People','Name','Price','Amount']\n",
        ").T\n",
        "#df['ones'] = np.ones(5)\n",
        "a = np.array(['100','500','250','50'],dtype=float)\n",
        "b = np.array(['35','10','25','40'],dtype=float)\n",
        "x = np.dot(a, b)\n",
        "yprice = np.array(['100','500','250','50'],dtype=float)\n",
        "yamount = np.array(['0','50','50','0'],dtype=float)\n",
        "y = np.dot(yprice, yamount)\n",
        "zprice = np.array(['100','500','250','50'],dtype=float)\n",
        "zamount = np.array(['0','0','100','0'],dtype=float)\n",
        "z= np.dot(zprice, zamount)\n",
        "\n",
        "print('X 총합은 :', x)\n",
        "print('Y 총합은 :', y)\n",
        "print('Z 총합은 :', z)"
      ],
      "execution_count": 29,
      "outputs": [
        {
          "output_type": "stream",
          "name": "stdout",
          "text": [
            "X 총합은 : 16750.0\n",
            "Y 총합은 : 37500.0\n",
            "Z 총합은 : 25000.0\n"
          ]
        }
      ]
    },
    {
      "cell_type": "markdown",
      "metadata": {
        "id": "dMgAVgIuGe_B"
      },
      "source": [
        "## 2. Norms\n",
        "\n",
        "주어진 값 $x_0, x_1, ... x_n$ 를 element로 갖는 벡터 $v$에 대하여 \n",
        "\n",
        "$L_1$ Norm 의 정의는 다음과 같습니다. \n",
        "\n",
        "$|v| = |x_0| + |x_1| + ... + |x_n|$\n",
        "\n",
        "$L_2$ Norm 의 정의는 다음과 같습니다.\n",
        "\n",
        "$||v|| = \\sqrt {{x_0}^2 + {x_1}^2 + ... + {x_n}^2}$\n",
        "\n",
        "이를 참조하여 주어진 벡터에 대해서 $L_2$ Norm 의 값과 $L_1$ Norm 의 값의 차이(**절대값**)를 계산하는 함수를 만드세요.\n",
        "\n"
      ]
    },
    {
      "cell_type": "code",
      "metadata": {
        "id": "XrYfAExIGemC",
        "outputId": "5a7471ae-937c-4560-b4bb-a6d44654feba",
        "colab": {
          "base_uri": "https://localhost:8080/"
        }
      },
      "source": [
        "def L1_norm(x):\n",
        "\tx_norm = np.abs(x)\n",
        "\tx_norm = np.sum(x_norm)\n",
        "\treturn x_norm\n",
        "\n",
        "def L2_norm(x):\n",
        "\tx_norm = x * x\n",
        "\tx_norm = np.sum(x_norm)\n",
        "\tx_norm = np.sqrt(x_norm)\n",
        "\treturn x_norm\n",
        "\n",
        "print(L1_norm(7)-L2_norm(7))\n"
      ],
      "execution_count": 38,
      "outputs": [
        {
          "output_type": "stream",
          "name": "stdout",
          "text": [
            "0.0\n"
          ]
        }
      ]
    },
    {
      "cell_type": "markdown",
      "metadata": {
        "id": "VBJHWdyalU4G"
      },
      "source": [
        "## 3. Errors\n",
        "\n",
        "\n",
        "\n",
        "- 2개의 벡터와, error의 타입을 입력받아 그 결과값을 계산하는 함수를 작성하세요.\n",
        "\n",
        "- 여기서 error의 타입은 `MSE`, `MAE` 2가지 입니다.\n",
        "\n"
      ]
    },
    {
      "cell_type": "code",
      "metadata": {
        "id": "LQy8_pEUHHDC",
        "outputId": "43e9a000-857a-470e-9a63-389332a0793f",
        "colab": {
          "base_uri": "https://localhost:8080/"
        }
      },
      "source": [
        "from sklearn.metrics import mean_absolute_error as mae\n",
        "from sklearn.metrics import mean_squared_error as mse\n",
        "\n",
        "def error(x, y, type) :\n",
        "  MAE = mae(x,y)\n",
        "  MSE = mse(x,y)\n",
        "  if type == 'MAE':\n",
        "    return MAE\n",
        "  elif type == 'MSE':\n",
        "    return MSE\n",
        "    \n",
        "print(error(np.array([1, 2, 3]), np.array([4, 5, 6]), 'MSE'))\n",
        "print(error(np.array([1, 2, 3]), np.array([4, 5, 6]), 'MAE'))"
      ],
      "execution_count": 40,
      "outputs": [
        {
          "output_type": "stream",
          "name": "stdout",
          "text": [
            "9.0\n",
            "3.0\n"
          ]
        }
      ]
    },
    {
      "cell_type": "markdown",
      "metadata": {
        "id": "l2Teph_aS16e"
      },
      "source": [
        "# 4. Inverse\n",
        "\n",
        "- 주어진 matrix에 대해서 inverse matrix를 계산하여 반환하는 함수를 작성하세요. \n",
        "- 이 때 inverse 계산이 불가능 한 경우 `-1` 을 반환합니다."
      ]
    },
    {
      "cell_type": "code",
      "metadata": {
        "id": "1hseshZkS1eX"
      },
      "source": [
        "import numpy as np\n",
        "\n",
        "def myInverse(m) : # m = np.array()\n",
        " try:\n",
        "  return np.linalg.inv(m)\n",
        " except:\n",
        "  return -1"
      ],
      "execution_count": 41,
      "outputs": []
    },
    {
      "cell_type": "markdown",
      "metadata": {
        "id": "V0iTO4McYjtk"
      },
      "source": [
        "# 🔥 도전과제 \n",
        "\n"
      ]
    },
    {
      "cell_type": "markdown",
      "metadata": {
        "id": "3p45qAIGFTBZ"
      },
      "source": [
        "다음 링크의 내용을 참조하여 **Cramer's rule**을 사용해 $x_1$, $x_2$, $x_3$의 값을 구하세요.\n",
        "\n",
        "<https://youtu.be/6StS7VjtuGI>\n",
        "\n",
        "\n",
        "$x_1$ + $2x_3$ = 6\n",
        "\n",
        "$-3x_1$ + $4x_2$ + $6x_3$ = 30\n",
        "\n",
        "$-x_1$ $-2x_2$ + $3x_3$ = 8\n",
        "\n"
      ]
    },
    {
      "cell_type": "code",
      "metadata": {
        "id": "jd8kdy95AQbI"
      },
      "source": [
        ""
      ],
      "execution_count": null,
      "outputs": []
    }
  ]
}