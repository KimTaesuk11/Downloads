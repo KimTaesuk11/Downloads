{
  "nbformat": 4,
  "nbformat_minor": 0,
  "metadata": {
    "colab": {
      "name": "n132a-intermediate-linear-algebra.ipynb",
      "provenance": []
    },
    "kernelspec": {
      "display_name": "Python 3",
      "language": "python",
      "name": "python3"
    },
    "language_info": {
      "codemirror_mode": {
        "name": "ipython",
        "version": 3
      },
      "file_extension": ".py",
      "mimetype": "text/x-python",
      "name": "python",
      "nbconvert_exporter": "python",
      "pygments_lexer": "ipython3",
      "version": "3.8.2"
    }
  },
  "cells": [
    {
      "cell_type": "markdown",
      "metadata": {
        "id": "GSNiYn8lr6nN"
      },
      "source": [
        "<img src='https://i.imgur.com/RDAD11M.png' width = '200' align = 'right'>\n",
        "\n",
        "## *DATA SCIENCE / SECTION 1 / SPRINT 3 / NOTE 2*\n",
        "\n",
        "# 📝 Assignment\n"
      ]
    },
    {
      "cell_type": "markdown",
      "metadata": {
        "id": "3d4izUhQvh2_"
      },
      "source": [
        "## 1. 주어진 리스트에 대해서 평균, 분산, 표준편차를 구하는 함수를 작성해보세요. (`mean`같은 builtin function 제외)\n",
        "> [243, 278, 184, 249, 207] 에 대해서 해당 함수를 사용한 결과가 아래와 같으면 정답입니다. (소수점 두자리까지만 보여드립니다)\n",
        "- mean : 232.2\n",
        "- var : 1090.96\n",
        "- std : 33.03"
      ]
    },
    {
      "cell_type": "code",
      "metadata": {
        "id": "w1iZfYvBtEA1",
        "outputId": "5bdf637b-4f00-4fed-9a93-ea4053335bcf",
        "colab": {
          "base_uri": "https://localhost:8080/"
        }
      },
      "source": [
        "import numpy as np\n",
        "\n",
        "v = [243, 278, 184, 249, 207]\n",
        "def myMean(v) : #평균\n",
        "    mean = sum(v) / len(v)\n",
        "    return mean\n",
        "result = myMean(v)\n",
        "print(result)\n",
        "\n",
        "def myvar(v): #모분산\n",
        "    dif = np.array(v)-myMean(v)\n",
        "    dif2 = (dif**2).sum()\n",
        "    var = dif2/len(v)\n",
        "    return var\n",
        "result1 = myvar(v)\n",
        "print(result1)\n",
        "def mystd(v): #모집단의 표준편차\n",
        "    std = np.sqrt(myvar(v))\n",
        "    return std\n",
        "result2 = mystd(v)\n",
        "print(result2)"
      ],
      "execution_count": 15,
      "outputs": [
        {
          "output_type": "stream",
          "name": "stdout",
          "text": [
            "232.2\n",
            "1090.96\n",
            "33.02968361943541\n"
          ]
        }
      ]
    },
    {
      "cell_type": "markdown",
      "metadata": {
        "id": "oh63KaOctEp_"
      },
      "source": [
        "## 2. 위에서 사용된 데이터와 다음 데이터의 공분산과, 상관계수를 구해보세요\n",
        "> [88, 89, 83, 112, 104] 에 대해서 해당 함수를 사용한 결과가 아래와 같으면 정답입니다. (소수점 두자리까지만 보여드립니다) \n",
        "- cov : 1363.7\n",
        "- cor : 0.16"
      ]
    },
    {
      "cell_type": "code",
      "metadata": {
        "id": "G7ZB0krot564",
        "outputId": "2028aa83-32b3-4254-e82b-b2ec89bd4cbd",
        "colab": {
          "base_uri": "https://localhost:8080/"
        }
      },
      "source": [
        "import numpy as np\n",
        "import pandas as pd\n",
        "\n",
        "x = [88, 89, 83, 112, 104]\n",
        "print('공분산',np.cov(x, v)[0,1])\n",
        "\n",
        "print('상관계수', np.cov(x,v,ddof=0)[0,1])\n"
      ],
      "execution_count": 35,
      "outputs": [
        {
          "output_type": "stream",
          "name": "stdout",
          "text": [
            "공분산 71.7\n",
            "상관계수 57.36000000000001\n"
          ]
        }
      ]
    },
    {
      "cell_type": "markdown",
      "metadata": {
        "id": "86iXLzwM2z8l"
      },
      "source": [
        "## 3. 다음 벡터들의 span과, 이가 의미하는 바를 설명하세요. \n",
        "\n",
        "\\begin{align}\n",
        "g = \\begin{bmatrix} 1 & 3 \\end{bmatrix}\n",
        "\\qquad\n",
        "h = \\begin{bmatrix} 2 & 6 \\end{bmatrix}\n",
        "\\end{align}"
      ]
    },
    {
      "cell_type": "code",
      "metadata": {
        "id": "fNpSjPcOScgH"
      },
      "source": [
        "#res6 = # span (차원 수)"
      ],
      "execution_count": null,
      "outputs": []
    },
    {
      "cell_type": "code",
      "metadata": {
        "id": "-9Y_N2_Z5OEQ",
        "outputId": "1ad0bac5-a589-4b8c-dfd3-a05b0e718079",
        "colab": {
          "base_uri": "https://localhost:8080/",
          "height": 336
        }
      },
      "source": [
        "import matplotlib.pyplot as plt\n",
        "\n",
        "a = [1,3]\n",
        "b = [2,6]\n",
        "plt.figure(figsize=(2.5,5))\n",
        "plt.xlim(0, 4)          \n",
        "plt.ylim(0, 7)\n",
        "plt.xticks(ticks=np.arange(0, 4, step=1))\n",
        "plt.yticks(ticks=np.arange(0, 7, step=1))\n",
        "#plt.arrow(0, 0, a[0], a[1], width = 0.05,head_width = .2, head_length = .1, color = 'red', alpha = 0.3)\n",
        "plt.arrow(0, 0, b[0], b[1], head_width = .1, head_length = .1, color = 'blue', alpha = 0.3)\n",
        "plt.axhline(0, color='gray', alpha = 0.3)\n",
        "plt.axvline(0, color='gray', alpha = 0.3)\n",
        "plt.annotate('vector g',(1,3),fontsize = 13, color = 'red')\n",
        "plt.annotate('vector h',(2,6),fontsize = 13, color = 'blue')\n",
        "plt.title(\"Vector\")\n",
        "plt.grid()\n",
        "plt.show()\n",
        "# 1. span = 선\n",
        "# 2. g, h 는 선형종속\n",
        "# 3. 선이 선위에 있음."
      ],
      "execution_count": 26,
      "outputs": [
        {
          "output_type": "display_data",
          "data": {
            "image/png": "[encoded data removed]",
            "text/plain": [
              "<Figure size 180x360 with 1 Axes>"
            ]
          },
          "metadata": {
            "needs_background": "light"
          }
        }
      ]
    },
    {
      "cell_type": "markdown",
      "metadata": {
        "id": "l1deylUj4IHH"
      },
      "source": [
        "## 4. 다음 벡터들의 span과, 이가 의미하는 바를 설명하세요.\n",
        "\n",
        "\\begin{align}\n",
        "l = \\begin{bmatrix} 1 & 2 & 3 \\end{bmatrix}\n",
        "\\qquad\n",
        "m = \\begin{bmatrix} -1 & 0 & 7 \\end{bmatrix}\n",
        "\\qquad\n",
        "n = \\begin{bmatrix} 4 & 8  & 2\\end{bmatrix}\n",
        "\\end{align}"
      ]
    },
    {
      "cell_type": "code",
      "metadata": {
        "id": "NWZ36G8QTMob"
      },
      "source": [
        "res7 = # span (차원 수)"
      ],
      "execution_count": null,
      "outputs": []
    },
    {
      "cell_type": "code",
      "metadata": {
        "id": "XH-BlPKl5Ofa",
        "outputId": "275a9c1a-903d-4a12-a0c2-ad44f4efb2db",
        "colab": {
          "base_uri": "https://localhost:8080/",
          "height": 248
        }
      },
      "source": [
        "l = [1,0,0]\n",
        "m = [-1,0,7]\n",
        "n = [4,8,2]\n",
        "\n",
        "fig = plt.figure()\n",
        "ax = plt.axes(projection='3d')\n",
        "ax.quiver(0,0,0,l[0],l[1],l[2], color='r',label='l')\n",
        "ax.quiver(0,0,0,m[0],m[1],m[2],  color='b', label='m')\n",
        "ax.quiver(0,0,0,n[0],n[1],n[2], color='g',label='n')\n",
        "ax.legend()\n",
        "plt.show()\n",
        "# 1. span 3차원.\n",
        "# 2. l과 m, n은 선형독립임"
      ],
      "execution_count": 29,
      "outputs": [
        {
          "output_type": "display_data",
          "data": {
            "image/png": "[encoded data removed]",
            "text/plain": [
              "<Figure size 432x288 with 1 Axes>"
            ]
          },
          "metadata": {
            "needs_background": "light"
          }
        }
      ]
    },
    {
      "cell_type": "markdown",
      "metadata": {
        "id": "IpJwt9kw6v8U"
      },
      "source": [
        "## 5. 다음 매트릭스의 rank를 구하세요\n",
        "\n",
        "\\begin{align}\n",
        "P = \\begin{bmatrix} \n",
        "0 & 2 & 5 \\\\\n",
        " 3 & 6 & 12 \\\\\n",
        "3 & 2 & 2\n",
        "\\end{bmatrix}\n",
        "\\end{align}"
      ]
    },
    {
      "cell_type": "code",
      "metadata": {
        "id": "CAzw0q3KTu5d"
      },
      "source": [
        "res8 = # rank"
      ],
      "execution_count": null,
      "outputs": []
    },
    {
      "cell_type": "code",
      "metadata": {
        "id": "J1510V7JJL0W",
        "outputId": "c8f93150-b5cd-4417-9673-ebb9200ae2e0",
        "colab": {
          "base_uri": "https://localhost:8080/"
        }
      },
      "source": [
        "import numpy as np\n",
        "\n",
        "P=np.array([[0,2,5],[3,6,12],[3,2,2]])\n",
        "np.linalg.matrix_rank(P)"
      ],
      "execution_count": 30,
      "outputs": [
        {
          "output_type": "execute_result",
          "data": {
            "text/plain": [
              "2"
            ]
          },
          "metadata": {},
          "execution_count": 30
        }
      ]
    },
    {
      "cell_type": "markdown",
      "metadata": {
        "id": "TKkrPwRM-Oar"
      },
      "source": [
        "# 🔥 도전과제 \n",
        "\n",
        "주어진 데이터 (x, y)에 대해서 `y = x` 라는 벡터에 대해 projection을 계산하는 함수를 작성하세요. \n",
        "- (x, y) 는 (0, 0) 에서 (x, y)로 가는 벡터라 가정합니다.\n",
        "\n",
        "이후\n",
        "\n",
        "- 입력된 데이터를 파란색 선으로, \n",
        "- `y = x` 라는 벡터를 빨간색 선으로, 마지막으로 \n",
        "- projection 된 선을 녹색 점선(dashed)으로 그래프에 그리세요."
      ]
    },
    {
      "cell_type": "code",
      "metadata": {
        "id": "cp52kZra-ykj",
        "outputId": "1d66128f-f3c6-4e82-dfda-d415cacc9ee1",
        "colab": {
          "base_uri": "https://localhost:8080/"
        }
      },
      "source": [
        "v = [7, 4]\n",
        "x=4\n",
        "y=8\n",
        "\n",
        "def myProjection(v):\n",
        "  v = np.array(v)\n",
        "  xy = np.array([x, y])\n",
        "  xy_norm = np.sqrt(sum(xy**2))     \n",
        "  vprime = (np.dot(v, xy)/xy_norm**2)*xy\n",
        "  return vprime\n",
        "vprime = myProjection(v)\n",
        "vprime"
      ],
      "execution_count": 37,
      "outputs": [
        {
          "output_type": "execute_result",
          "data": {
            "text/plain": [
              "array([3., 6.])"
            ]
          },
          "metadata": {},
          "execution_count": 37
        }
      ]
    },
    {
      "cell_type": "code",
      "metadata": {
        "id": "tRtgke9rUecn",
        "outputId": "07e0aa43-27f1-4d94-df04-f13342ad262a",
        "colab": {
          "base_uri": "https://localhost:8080/",
          "height": 428
        }
      },
      "source": [
        "plt.figure(figsize = (7,7))\n",
        "plt.xlim(0,10)          \n",
        "plt.ylim(0,10)\n",
        "plt.xticks(ticks=np.arange(0, 10, step=1))\n",
        "plt.yticks(ticks=np.arange(0, 10, step=1))\n",
        "\n",
        "vprime = myProjection(v)\n",
        "vprime_norm = np.sqrt(sum(vprime**2))\n",
        "\n",
        "axes = plt.gca()\n",
        "plt.gca().set_aspect('equal')\n",
        "x_vals = np.array(axes.get_xlim())\n",
        "y_vals = x_vals\n",
        "\n",
        "plt.arrow(0, 0, vprime[0], vprime[1],linestyle = '--', color = 'green')\n",
        "plt.arrow(0, 0, v[0], v[1], linewidth = 3, head_width = .05, head_length = .05, color = 'b', alpha = 0.4)\n",
        "plt.arrow(v[0], v[1],vprime[0]-v[0], vprime[1]-v[1], linewidth = 3, head_width = .05, head_length = .05, color = 'orange', alpha = 0.5)\n",
        "#plt.arrow(0, 0,x, y, linewidth = 3, head_width = .05, head_length = .05, color = 'red', alpha = 0.5)\n",
        "\n",
        "plt.grid()\n",
        "plt.show()"
      ],
      "execution_count": 39,
      "outputs": [
        {
          "output_type": "display_data",
          "data": {
            "image/png": "[encoded data removed]",
            "text/plain": [
              "<Figure size 504x504 with 1 Axes>"
            ]
          },
          "metadata": {
            "needs_background": "light"
          }
        }
      ]
    }
  ]
}