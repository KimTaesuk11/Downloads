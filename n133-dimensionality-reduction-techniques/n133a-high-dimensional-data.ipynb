{
  "nbformat": 4,
  "nbformat_minor": 0,
  "metadata": {
    "colab": {
      "name": "n133a-high-dimensional-data.ipynb",
      "provenance": []
    },
    "kernelspec": {
      "display_name": "Python 3",
      "language": "python",
      "name": "python3"
    },
    "language_info": {
      "codemirror_mode": {
        "name": "ipython",
        "version": 3
      },
      "file_extension": ".py",
      "mimetype": "text/x-python",
      "name": "python",
      "nbconvert_exporter": "python",
      "pygments_lexer": "ipython3",
      "version": "3.8.2"
    }
  },
  "cells": [
    {
      "cell_type": "markdown",
      "metadata": {
        "id": "2nEWvwVyVWdW"
      },
      "source": [
        "<img src='https://i.imgur.com/RDAD11M.png' width = '200' align = 'right'>\n",
        "\n",
        "## *DATA SCIENCE / SECTION 1 / SPRINT 3 / NOTE 3*\n",
        "\n",
        "# 📝 Assignment\n",
        "\n"
      ]
    },
    {
      "cell_type": "markdown",
      "metadata": {
        "id": "5HY0R4u7anIr"
      },
      "source": [
        "## 1. 주어진 matrix에 대해서, numpy를 사용하여, `eigenvalue`와 `eigenvector`를 구하고, 각각 `value`, `vector`에 저장하세요.\n",
        "\n",
        "\\begin{bmatrix} 4 & 2 \\\\ 2 & 4 \\end{bmatrix}"
      ]
    },
    {
      "cell_type": "code",
      "metadata": {
        "id": "FdLS0X9lvh3e",
        "outputId": "982ad74d-35b0-4516-e6dd-3901d08039e5",
        "colab": {
          "base_uri": "https://localhost:8080/"
        }
      },
      "source": [
        "import numpy as np\n",
        "from PIL import Image\n",
        "\n",
        "t=np.array([[4,2],[2,4]])\n",
        "eig_val, eig_vec = np.linalg.eig(t)\n",
        "print('고유값 : ', eig_val)\n",
        "print('고유벡터', eig_vec)"
      ],
      "execution_count": 4,
      "outputs": [
        {
          "output_type": "stream",
          "name": "stdout",
          "text": [
            "고유값 :  [6. 2.]\n",
            "고유벡터 [[ 0.70710678 -0.70710678]\n",
            " [ 0.70710678  0.70710678]]\n"
          ]
        }
      ]
    },
    {
      "cell_type": "markdown",
      "metadata": {
        "id": "7iEheetpbJdN"
      },
      "source": [
        "## 2. Penguins dataset을 사용하여 numerical feature 4개에 대해서 2차원으로 PCA를 시행 후 PC1 & PC2를 사용하여 scatter plot을 그리세요.\n",
        "\n",
        "- 데이터셋 사용을 위해, 다음 링크를 참조하세요.\n",
        "\n",
        "<http://seaborn.pydata.org/generated/seaborn.load_dataset.html#seaborn.load_dataset>\n",
        "\n",
        "- 4개의 feature는 `culmen_length_mm`, `culmen_depth_mm`, `flipper_length_mm`, `body_mass_g` 입니다.\n",
        "\n",
        "- 이후 2개의 PC를 이용하여 설명되는 variance의 ratio를 `ratio`에 저장하세요.\n",
        "\n",
        "- 다음과 같은 결과가 나와야 합니다.\n",
        "\n",
        "<img src='https://i.imgur.com/5BCEHeL.png'>"
      ]
    },
    {
      "cell_type": "code",
      "metadata": {
        "id": "AAH42jp-vgYY"
      },
      "source": [
        "# 기본 데이터 분석을 위한 Library\n",
        "import pandas as pd\n",
        "import numpy as np\n",
        "\n",
        "# 시각화 Library\n",
        "import matplotlib.pyplot as plt\n",
        "import seaborn as sns\n",
        "\n",
        "# Sklearn에 있는 기본 데이터셋을 가져오기 위한\n",
        "from sklearn import datasets\n",
        "\n",
        "# sklearn의 PCA를 통해서 쉽게 PCA 적용가능\n",
        "from sklearn.decomposition import PCA\n",
        "# 그렇지 않으면 Matrix만들고 COV 구해서\n",
        "# eigen_vector, eigen_value를 구해야하는 등 과정이 복잡해진다."
      ],
      "execution_count": 27,
      "outputs": []
    },
    {
      "cell_type": "code",
      "metadata": {
        "id": "1WK45H22K3eF",
        "outputId": "b02f135d-1c6c-41d8-bdd2-f7546c3fa4dc",
        "colab": {
          "base_uri": "https://localhost:8080/",
          "height": 206
        }
      },
      "source": [
        "sns.get_dataset_names() \n",
        "df = sns.load_dataset('penguins')\n",
        "df = df[['species','bill_length_mm','bill_depth_mm','flipper_length_mm','body_mass_g']]\n",
        "df = df.dropna(axis=0)\n",
        "\n",
        "from sklearn.preprocessing import StandardScaler  # 표준화 패키지 라이브러리 \n",
        "x = df.drop(['species'], axis=1).values # 독립변인들의 value값만 추출\n",
        "y = df['species'].values # 종속변인 추출\n",
        "\n",
        "x = StandardScaler().fit_transform(x) # x객체에 x를 표준화한 데이터를 저장\n",
        "\n",
        "features = ['bill_length_mm','bill_depth_mm','flipper_length_mm','body_mass_g']\n",
        "pd.DataFrame(x, columns=features).head()"
      ],
      "execution_count": 87,
      "outputs": [
        {
          "output_type": "execute_result",
          "data": {
            "text/html": [
              "<div>\n",
              "<style scoped>\n",
              "    .dataframe tbody tr th:only-of-type {\n",
              "        vertical-align: middle;\n",
              "    }\n",
              "\n",
              "    .dataframe tbody tr th {\n",
              "        vertical-align: top;\n",
              "    }\n",
              "\n",
              "    .dataframe thead th {\n",
              "        text-align: right;\n",
              "    }\n",
              "</style>\n",
              "<table border=\"1\" class=\"dataframe\">\n",
              "  <thead>\n",
              "    <tr style=\"text-align: right;\">\n",
              "      <th></th>\n",
              "      <th>bill_length_mm</th>\n",
              "      <th>bill_depth_mm</th>\n",
              "      <th>flipper_length_mm</th>\n",
              "      <th>body_mass_g</th>\n",
              "    </tr>\n",
              "  </thead>\n",
              "  <tbody>\n",
              "    <tr>\n",
              "      <th>0</th>\n",
              "      <td>-0.884499</td>\n",
              "      <td>0.785449</td>\n",
              "      <td>-1.418347</td>\n",
              "      <td>-0.564142</td>\n",
              "    </tr>\n",
              "    <tr>\n",
              "      <th>1</th>\n",
              "      <td>-0.811126</td>\n",
              "      <td>0.126188</td>\n",
              "      <td>-1.062250</td>\n",
              "      <td>-0.501703</td>\n",
              "    </tr>\n",
              "    <tr>\n",
              "      <th>2</th>\n",
              "      <td>-0.664380</td>\n",
              "      <td>0.430462</td>\n",
              "      <td>-0.421277</td>\n",
              "      <td>-1.188532</td>\n",
              "    </tr>\n",
              "    <tr>\n",
              "      <th>3</th>\n",
              "      <td>-1.324737</td>\n",
              "      <td>1.089724</td>\n",
              "      <td>-0.563715</td>\n",
              "      <td>-0.938776</td>\n",
              "    </tr>\n",
              "    <tr>\n",
              "      <th>4</th>\n",
              "      <td>-0.847812</td>\n",
              "      <td>1.748985</td>\n",
              "      <td>-0.777373</td>\n",
              "      <td>-0.689020</td>\n",
              "    </tr>\n",
              "  </tbody>\n",
              "</table>\n",
              "</div>"
            ],
            "text/plain": [
              "   bill_length_mm  bill_depth_mm  flipper_length_mm  body_mass_g\n",
              "0       -0.884499       0.785449          -1.418347    -0.564142\n",
              "1       -0.811126       0.126188          -1.062250    -0.501703\n",
              "2       -0.664380       0.430462          -0.421277    -1.188532\n",
              "3       -1.324737       1.089724          -0.563715    -0.938776\n",
              "4       -0.847812       1.748985          -0.777373    -0.689020"
            ]
          },
          "metadata": {},
          "execution_count": 87
        }
      ]
    },
    {
      "cell_type": "code",
      "metadata": {
        "id": "ZnCjgaiNQCt2",
        "outputId": "5db82300-9d1c-465b-b913-d71147bf6418",
        "colab": {
          "base_uri": "https://localhost:8080/"
        }
      },
      "source": [
        "from sklearn.decomposition import PCA\n",
        "pca = PCA(n_components=2) # 주성분을 몇개로 할지 결정\n",
        "printcipalComponents = pca.fit_transform(x)\n",
        "p_df = pd.DataFrame(data=printcipalComponents, columns = ['PC1', 'PC2'])\n",
        "p_df.head()\n",
        "\n",
        "ratio = pca.explained_variance_ratio_\n",
        "ratio"
      ],
      "execution_count": 90,
      "outputs": [
        {
          "output_type": "execute_result",
          "data": {
            "text/plain": [
              "array([0.68843878, 0.19312919])"
            ]
          },
          "metadata": {},
          "execution_count": 90
        }
      ]
    },
    {
      "cell_type": "code",
      "metadata": {
        "id": "T1xwUVmbVvp3",
        "outputId": "c23a1024-8f9b-47ee-c7fd-d9e6884b0b61",
        "colab": {
          "base_uri": "https://localhost:8080/",
          "height": 393
        }
      },
      "source": [
        "import matplotlib.pyplot as plt\n",
        "\n",
        "fig = plt.figure(figsize = (8, 6))\n",
        "ax = fig.add_subplot(1, 1, 1)\n",
        "ax.set_xlabel('PC1', fontsize = 15)\n",
        "ax.set_ylabel('PC2', fontsize = 15)\n",
        "\n",
        "finalDf = pd.concat([p_df, df[['species']]], axis = 1)\n",
        "specie = ['Adelie', 'Chinstrap', 'Gentoo']\n",
        "colors = ['b', 'orange', 'g']\n",
        "for species, color in zip(specie, colors):\n",
        "    indicesToKeep = finalDf['species'] == species\n",
        "    ax.scatter(finalDf.loc[indicesToKeep, 'PC1']\n",
        "               , finalDf.loc[indicesToKeep, 'PC2']\n",
        "               , c = color\n",
        "               , s = 50)\n",
        "ax.legend(specie, loc='lower right',title = 'species')\n",
        "ax.grid()"
      ],
      "execution_count": 89,
      "outputs": [
        {
          "output_type": "display_data",
          "data": {
            "image/png": "[encoded data removed]",
            "text/plain": [
              "<Figure size 576x432 with 1 Axes>"
            ]
          },
          "metadata": {
            "needs_background": "light"
          }
        }
      ]
    },
    {
      "cell_type": "markdown",
      "metadata": {
        "id": "RQx7UvsucIrL"
      },
      "source": [
        "## 🔥 도전 과제\n",
        "\n",
        "### \"Scree Plot\" 에 대해서 알아보고, 위에서 PCA로 만든 데이터셋을 사용하여 만들어보세요. 90%의 내용을 설명하기 위해서, 몇개의 PC를 사용해야 하나요?\n"
      ]
    },
    {
      "cell_type": "code",
      "metadata": {
        "id": "LDWgV_vG0UWb"
      },
      "source": [
        "# 이곳에 답안을 작성하시기 바랍니다"
      ],
      "execution_count": 22,
      "outputs": []
    },
    {
      "cell_type": "code",
      "metadata": {
        "id": "Ng6O7-JRHOI5"
      },
      "source": [
        ""
      ],
      "execution_count": 22,
      "outputs": []
    }
  ]
}